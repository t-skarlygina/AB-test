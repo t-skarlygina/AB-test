{
 "cells": [
  {
   "cell_type": "markdown",
   "metadata": {},
   "source": [
    "**Задание**\n",
    "\n",
    "Одной из основных задач аналитика в нашей команде является корректное проведение экспериментов. Для этого мы применяем метод A/B–тестирования. В ходе тестирования одной гипотезы целевой группе была предложена новая механика оплаты услуг на сайте, у контрольной группы оставалась базовая механика. В качестве задания Вам необходимо проанализировать итоги эксперимента и сделать вывод, стоит ли запускать новую механику оплаты на всех пользователей.\n",
    "\n",
    "В качестве входных данных Вы имеете 4 csv-файла:\n",
    " - `groups.csv` - файл с информацией о принадлежности пользователя к контрольной или экспериментальной группе (А – контроль, B – целевая группа) \n",
    " - `groups_add.csv` - дополнительный файл с пользователями, который вам прислали спустя 2 дня после передачи данных\n",
    " - `active_studs.csv` - файл с информацией о пользователях, которые зашли на платформу в дни проведения эксперимента. \n",
    " - `checks.csv` - файл с информацией об оплатах пользователей в дни проведения эксперимента. \n",
    "\n",
    "*Предлагаем Вам ответить на следующие вопросы:*\n",
    "На какие метрики Вы смотрите в ходе анализа и почему?\n",
    "Имеются ли различия в показателях и с чем они могут быть связаны?\n",
    "Являются ли эти различия статистически значимыми?\n",
    "Стоит ли запускать новую механику на всех пользователей?"
   ]
  },
  {
   "cell_type": "markdown",
   "metadata": {},
   "source": [
    "##  EDA (Исследовательский анализ данных)\n",
    "    "
   ]
  },
  {
   "cell_type": "code",
   "execution_count": 1,
   "metadata": {},
   "outputs": [],
   "source": [
    "# Импортирую библиотеки и задам настройки отображения\n",
    "import pandas as pd\n",
    "import requests\n",
    "from urllib.parse import urlencode\n",
    "import pandahouse as ph\n",
    "\n",
    "import seaborn as sns\n",
    "import matplotlib.pyplot as plt\n",
    "%matplotlib inline\n",
    "import matplotlib.gridspec as gridspec\n",
    "import numpy as np\n",
    "\n",
    "import scipy.stats as stats\n",
    "from scipy.stats import norm\n",
    "\n",
    "sns.set(\n",
    "    style=\"whitegrid\",\n",
    "    rc={'figure.figsize': (20, 7)})\n",
    "pd.set_option('display.precision', 2)"
   ]
  },
  {
   "cell_type": "code",
   "execution_count": 2,
   "metadata": {},
   "outputs": [],
   "source": [
    "# использование api \n",
    "def url(public_key):\n",
    "    base_url = 'https://cloud-api.yandex.net/v1/disk/public/resources/download?' \n",
    "    final_url = base_url + urlencode(dict(public_key=public_key))\n",
    "    response_active = requests.get(final_url)\n",
    "    download_url = response_active.json()['href']\n",
    "#   download_response = requests.get(download_url)\n",
    "    return download_url"
   ]
  },
  {
   "cell_type": "code",
   "execution_count": 3,
   "metadata": {},
   "outputs": [],
   "source": [
    "download_url_active_studs = url('https://disk.yandex.ru/d/Tbs44Bm6H_FwFQ' )\n",
    "active = pd.read_csv(download_url_active_studs)\n",
    "download_url_checks = url('https://disk.yandex.ru/d/pH1q-VqcxXjsVA')\n",
    "checks = pd.read_csv(download_url_checks, sep=';')\n",
    "download_url_groups = url('https://disk.yandex.ru/d/UhyYx41rTt3clQ' )\n",
    "groups = pd.read_csv(download_url_groups, sep=';')\n",
    "download_url_group_add = url('https://disk.yandex.ru/d/5Kxrz02m3IBUwQ')\n",
    "group_add = pd.read_csv(download_url_group_add)"
   ]
  },
  {
   "cell_type": "markdown",
   "metadata": {},
   "source": [
    "Датафрейм `groups` содержит данные о распределении пользователей по группам. В датафрейме 74 484 строки, все значения id уникальны. Максимальное значение id 5694419. "
   ]
  },
  {
   "cell_type": "code",
   "execution_count": 4,
   "metadata": {},
   "outputs": [
    {
     "name": "stdout",
     "output_type": "stream",
     "text": [
      " Количество уникальных пользователей 74484\n",
      " Максимальный идентификатор пользователя 5694419\n"
     ]
    },
    {
     "data": {
      "text/html": [
       "<div>\n",
       "<style scoped>\n",
       "    .dataframe tbody tr th:only-of-type {\n",
       "        vertical-align: middle;\n",
       "    }\n",
       "\n",
       "    .dataframe tbody tr th {\n",
       "        vertical-align: top;\n",
       "    }\n",
       "\n",
       "    .dataframe thead th {\n",
       "        text-align: right;\n",
       "    }\n",
       "</style>\n",
       "<table border=\"1\" class=\"dataframe\">\n",
       "  <thead>\n",
       "    <tr style=\"text-align: right;\">\n",
       "      <th></th>\n",
       "      <th>student_id</th>\n",
       "      <th>group</th>\n",
       "    </tr>\n",
       "  </thead>\n",
       "  <tbody>\n",
       "    <tr>\n",
       "      <th>0</th>\n",
       "      <td>1489</td>\n",
       "      <td>B</td>\n",
       "    </tr>\n",
       "  </tbody>\n",
       "</table>\n",
       "</div>"
      ],
      "text/plain": [
       "   student_id group\n",
       "0        1489     B"
      ]
     },
     "execution_count": 4,
     "metadata": {},
     "output_type": "execute_result"
    }
   ],
   "source": [
    "groups = groups.rename(columns={'id': 'student_id', 'grp': 'group'})\n",
    "\n",
    "print(f' Количество уникальных пользователей {groups.student_id.nunique()}')\n",
    "print(f' Максимальный идентификатор пользователя {groups.student_id.max()}')\n",
    "groups.head(1)"
   ]
  },
  {
   "cell_type": "markdown",
   "metadata": {},
   "source": [
    "Датафрейм `active` содержит данные (id) о пользователях, которые были активны во время проведения А/Б-тестирования. В датафрейме 8 341 строка и столько же уникальных значений. Максимальное значение id пользователя 5951797, что больше, чем в таблице `groups`, следовательно  не все пользователи будут определены в группы. В связи с этим отправлен запрос о доп данных (`group_add`), которые по условиям задачи будут получены только через два дня. Следовательно, на данный момент нужно начинать анализ без них, а в дальнейшем составить функцию, которая добавит новые данные и рассчитает показатели."
   ]
  },
  {
   "cell_type": "code",
   "execution_count": 5,
   "metadata": {},
   "outputs": [
    {
     "name": "stdout",
     "output_type": "stream",
     "text": [
      " Количество уникальных пользователей 8341\n",
      " Максимальный идентификатор пользователя 5951797\n"
     ]
    },
    {
     "data": {
      "text/html": [
       "<div>\n",
       "<style scoped>\n",
       "    .dataframe tbody tr th:only-of-type {\n",
       "        vertical-align: middle;\n",
       "    }\n",
       "\n",
       "    .dataframe tbody tr th {\n",
       "        vertical-align: top;\n",
       "    }\n",
       "\n",
       "    .dataframe thead th {\n",
       "        text-align: right;\n",
       "    }\n",
       "</style>\n",
       "<table border=\"1\" class=\"dataframe\">\n",
       "  <thead>\n",
       "    <tr style=\"text-align: right;\">\n",
       "      <th></th>\n",
       "      <th>student_id</th>\n",
       "    </tr>\n",
       "  </thead>\n",
       "  <tbody>\n",
       "    <tr>\n",
       "      <th>0</th>\n",
       "      <td>581585</td>\n",
       "    </tr>\n",
       "  </tbody>\n",
       "</table>\n",
       "</div>"
      ],
      "text/plain": [
       "   student_id\n",
       "0      581585"
      ]
     },
     "execution_count": 5,
     "metadata": {},
     "output_type": "execute_result"
    }
   ],
   "source": [
    "print(f' Количество уникальных пользователей {active.student_id.nunique()}')\n",
    "print(f' Максимальный идентификатор пользователя {active.student_id.max()}')\n",
    "active.head(1)"
   ]
  },
  {
   "cell_type": "markdown",
   "metadata": {},
   "source": [
    "Чтобы определить сколько пользователей остались без группы, к датафрейму `active` добавим информацию о группах из датафрейма `groups` и отфильтруем id пользователей без групп. Мы видим, что все значения больше 5694419 (максимального в датафрейме `groups`), следовательно мы можем предположить, что получили просто необновленную версию `groups` и данная ошибка не является результатом сбоя."
   ]
  },
  {
   "cell_type": "code",
   "execution_count": 6,
   "metadata": {},
   "outputs": [
    {
     "data": {
      "text/html": [
       "<div>\n",
       "<style scoped>\n",
       "    .dataframe tbody tr th:only-of-type {\n",
       "        vertical-align: middle;\n",
       "    }\n",
       "\n",
       "    .dataframe tbody tr th {\n",
       "        vertical-align: top;\n",
       "    }\n",
       "\n",
       "    .dataframe thead th {\n",
       "        text-align: right;\n",
       "    }\n",
       "</style>\n",
       "<table border=\"1\" class=\"dataframe\">\n",
       "  <thead>\n",
       "    <tr style=\"text-align: right;\">\n",
       "      <th></th>\n",
       "      <th>student_id</th>\n",
       "      <th>group</th>\n",
       "    </tr>\n",
       "  </thead>\n",
       "  <tbody>\n",
       "    <tr>\n",
       "      <th>1</th>\n",
       "      <td>5723133</td>\n",
       "      <td>NaN</td>\n",
       "    </tr>\n",
       "    <tr>\n",
       "      <th>111</th>\n",
       "      <td>5951797</td>\n",
       "      <td>NaN</td>\n",
       "    </tr>\n",
       "    <tr>\n",
       "      <th>632</th>\n",
       "      <td>5730382</td>\n",
       "      <td>NaN</td>\n",
       "    </tr>\n",
       "    <tr>\n",
       "      <th>2662</th>\n",
       "      <td>5739944</td>\n",
       "      <td>NaN</td>\n",
       "    </tr>\n",
       "    <tr>\n",
       "      <th>3830</th>\n",
       "      <td>5945085</td>\n",
       "      <td>NaN</td>\n",
       "    </tr>\n",
       "    <tr>\n",
       "      <th>4900</th>\n",
       "      <td>5700613</td>\n",
       "      <td>NaN</td>\n",
       "    </tr>\n",
       "    <tr>\n",
       "      <th>5254</th>\n",
       "      <td>5729371</td>\n",
       "      <td>NaN</td>\n",
       "    </tr>\n",
       "    <tr>\n",
       "      <th>5746</th>\n",
       "      <td>5777081</td>\n",
       "      <td>NaN</td>\n",
       "    </tr>\n",
       "    <tr>\n",
       "      <th>7413</th>\n",
       "      <td>5740903</td>\n",
       "      <td>NaN</td>\n",
       "    </tr>\n",
       "    <tr>\n",
       "      <th>7505</th>\n",
       "      <td>5760471</td>\n",
       "      <td>NaN</td>\n",
       "    </tr>\n",
       "    <tr>\n",
       "      <th>7535</th>\n",
       "      <td>5728431</td>\n",
       "      <td>NaN</td>\n",
       "    </tr>\n",
       "    <tr>\n",
       "      <th>7647</th>\n",
       "      <td>5723648</td>\n",
       "      <td>NaN</td>\n",
       "    </tr>\n",
       "    <tr>\n",
       "      <th>7668</th>\n",
       "      <td>5870856</td>\n",
       "      <td>NaN</td>\n",
       "    </tr>\n",
       "  </tbody>\n",
       "</table>\n",
       "</div>"
      ],
      "text/plain": [
       "      student_id group\n",
       "1        5723133   NaN\n",
       "111      5951797   NaN\n",
       "632      5730382   NaN\n",
       "2662     5739944   NaN\n",
       "3830     5945085   NaN\n",
       "4900     5700613   NaN\n",
       "5254     5729371   NaN\n",
       "5746     5777081   NaN\n",
       "7413     5740903   NaN\n",
       "7505     5760471   NaN\n",
       "7535     5728431   NaN\n",
       "7647     5723648   NaN\n",
       "7668     5870856   NaN"
      ]
     },
     "execution_count": 6,
     "metadata": {},
     "output_type": "execute_result"
    }
   ],
   "source": [
    "check_group = active.merge(groups, how='left', on='student_id')\n",
    "check_group[check_group['group'].isnull()]"
   ]
  },
  {
   "cell_type": "markdown",
   "metadata": {},
   "source": [
    "Датафрейм `checks` содержит данные об оплатах пользователей в период тестирования. В датафрейме 541 строка с уникальными id пользователя. Мы опять же видим, что максимальный идентификатор пользователя больше, чем в таблице `groups`. Проверим номера пользователей без группы. Опять же это только номер свыше максимального, то есть причина та же и до получения обновленных данных я использую те, что имеются."
   ]
  },
  {
   "cell_type": "code",
   "execution_count": 7,
   "metadata": {},
   "outputs": [
    {
     "name": "stdout",
     "output_type": "stream",
     "text": [
      " Количество уникальных пользователей, совершивших покупку в период проведения тестирования 541\n",
      " Максимальный идентификатор пользователя 5740903\n",
      " Сумма выручки за период проведения тестирования 573326.0 RUB\n"
     ]
    },
    {
     "data": {
      "text/html": [
       "<div>\n",
       "<style scoped>\n",
       "    .dataframe tbody tr th:only-of-type {\n",
       "        vertical-align: middle;\n",
       "    }\n",
       "\n",
       "    .dataframe tbody tr th {\n",
       "        vertical-align: top;\n",
       "    }\n",
       "\n",
       "    .dataframe thead th {\n",
       "        text-align: right;\n",
       "    }\n",
       "</style>\n",
       "<table border=\"1\" class=\"dataframe\">\n",
       "  <thead>\n",
       "    <tr style=\"text-align: right;\">\n",
       "      <th></th>\n",
       "      <th>student_id</th>\n",
       "      <th>rev</th>\n",
       "    </tr>\n",
       "  </thead>\n",
       "  <tbody>\n",
       "    <tr>\n",
       "      <th>0</th>\n",
       "      <td>1627</td>\n",
       "      <td>990.0</td>\n",
       "    </tr>\n",
       "  </tbody>\n",
       "</table>\n",
       "</div>"
      ],
      "text/plain": [
       "   student_id    rev\n",
       "0        1627  990.0"
      ]
     },
     "execution_count": 7,
     "metadata": {},
     "output_type": "execute_result"
    }
   ],
   "source": [
    "print(f' Количество уникальных пользователей, совершивших покупку в период проведения тестирования {checks.student_id.nunique()}')\n",
    "print(f' Максимальный идентификатор пользователя {checks.student_id.max()}')\n",
    "print(f' Сумма выручки за период проведения тестирования {checks.rev.sum().round(0)} RUB')\n",
    "checks.head(1)"
   ]
  },
  {
   "cell_type": "code",
   "execution_count": 8,
   "metadata": {},
   "outputs": [
    {
     "data": {
      "text/html": [
       "<div>\n",
       "<style scoped>\n",
       "    .dataframe tbody tr th:only-of-type {\n",
       "        vertical-align: middle;\n",
       "    }\n",
       "\n",
       "    .dataframe tbody tr th {\n",
       "        vertical-align: top;\n",
       "    }\n",
       "\n",
       "    .dataframe thead th {\n",
       "        text-align: right;\n",
       "    }\n",
       "</style>\n",
       "<table border=\"1\" class=\"dataframe\">\n",
       "  <thead>\n",
       "    <tr style=\"text-align: right;\">\n",
       "      <th></th>\n",
       "      <th>student_id</th>\n",
       "      <th>rev</th>\n",
       "      <th>group</th>\n",
       "    </tr>\n",
       "  </thead>\n",
       "  <tbody>\n",
       "    <tr>\n",
       "      <th>540</th>\n",
       "      <td>5740903</td>\n",
       "      <td>1900.0</td>\n",
       "      <td>NaN</td>\n",
       "    </tr>\n",
       "  </tbody>\n",
       "</table>\n",
       "</div>"
      ],
      "text/plain": [
       "     student_id     rev group\n",
       "540     5740903  1900.0   NaN"
      ]
     },
     "execution_count": 8,
     "metadata": {},
     "output_type": "execute_result"
    }
   ],
   "source": [
    "check_group_2 = checks.merge(groups, how='left', on='student_id')\n",
    "check_group_2[check_group_2['group'].isnull()]"
   ]
  },
  {
   "cell_type": "markdown",
   "metadata": {},
   "source": [
    "Проверив, сколько пользователей из датафрейма `checks` не присутствуют в датафрейме `active`, видим, что это 149 человек с выручкой 105 532р.(~20% от общей выручки по датафрейму `checks`)\n",
    "Можно предположить два объяснения этому факту:\n",
    " - эти платежи не имеют отношения к эсперименту и являются автоматическим продлением подписки, то есть при осуществлении данных платежей пользователям вообще не демонстрировалась никакая система оплаты.\n",
    " - данные пользователи по ошибке не попали в список активных пользователей.\n",
    " \n",
    "Так как доля \"неопознанной\" выручки значительна, то посчитаю показатели по обоим вариантам. В последствии, выяснив причины можно будет выбрать более подходящий."
   ]
  },
  {
   "cell_type": "code",
   "execution_count": 9,
   "metadata": {},
   "outputs": [
    {
     "data": {
      "text/html": [
       "<div>\n",
       "<style scoped>\n",
       "    .dataframe tbody tr th:only-of-type {\n",
       "        vertical-align: middle;\n",
       "    }\n",
       "\n",
       "    .dataframe tbody tr th {\n",
       "        vertical-align: top;\n",
       "    }\n",
       "\n",
       "    .dataframe thead th {\n",
       "        text-align: right;\n",
       "    }\n",
       "</style>\n",
       "<table border=\"1\" class=\"dataframe\">\n",
       "  <thead>\n",
       "    <tr style=\"text-align: right;\">\n",
       "      <th></th>\n",
       "      <th>student_id</th>\n",
       "      <th>rev</th>\n",
       "      <th>_merge</th>\n",
       "    </tr>\n",
       "  </thead>\n",
       "  <tbody>\n",
       "    <tr>\n",
       "      <th>1</th>\n",
       "      <td>3185</td>\n",
       "      <td>690.0</td>\n",
       "      <td>left_only</td>\n",
       "    </tr>\n",
       "    <tr>\n",
       "      <th>2</th>\n",
       "      <td>25973</td>\n",
       "      <td>690.0</td>\n",
       "      <td>left_only</td>\n",
       "    </tr>\n",
       "    <tr>\n",
       "      <th>3</th>\n",
       "      <td>26280</td>\n",
       "      <td>690.0</td>\n",
       "      <td>left_only</td>\n",
       "    </tr>\n",
       "    <tr>\n",
       "      <th>5</th>\n",
       "      <td>100645</td>\n",
       "      <td>630.0</td>\n",
       "      <td>left_only</td>\n",
       "    </tr>\n",
       "    <tr>\n",
       "      <th>6</th>\n",
       "      <td>102534</td>\n",
       "      <td>580.0</td>\n",
       "      <td>left_only</td>\n",
       "    </tr>\n",
       "    <tr>\n",
       "      <th>...</th>\n",
       "      <td>...</td>\n",
       "      <td>...</td>\n",
       "      <td>...</td>\n",
       "    </tr>\n",
       "    <tr>\n",
       "      <th>508</th>\n",
       "      <td>5291900</td>\n",
       "      <td>199.0</td>\n",
       "      <td>left_only</td>\n",
       "    </tr>\n",
       "    <tr>\n",
       "      <th>512</th>\n",
       "      <td>5331842</td>\n",
       "      <td>290.0</td>\n",
       "      <td>left_only</td>\n",
       "    </tr>\n",
       "    <tr>\n",
       "      <th>521</th>\n",
       "      <td>5486319</td>\n",
       "      <td>199.0</td>\n",
       "      <td>left_only</td>\n",
       "    </tr>\n",
       "    <tr>\n",
       "      <th>530</th>\n",
       "      <td>5562806</td>\n",
       "      <td>398.0</td>\n",
       "      <td>left_only</td>\n",
       "    </tr>\n",
       "    <tr>\n",
       "      <th>534</th>\n",
       "      <td>5599663</td>\n",
       "      <td>1900.0</td>\n",
       "      <td>left_only</td>\n",
       "    </tr>\n",
       "  </tbody>\n",
       "</table>\n",
       "<p>149 rows × 3 columns</p>\n",
       "</div>"
      ],
      "text/plain": [
       "     student_id     rev     _merge\n",
       "1          3185   690.0  left_only\n",
       "2         25973   690.0  left_only\n",
       "3         26280   690.0  left_only\n",
       "5        100645   630.0  left_only\n",
       "6        102534   580.0  left_only\n",
       "..          ...     ...        ...\n",
       "508     5291900   199.0  left_only\n",
       "512     5331842   290.0  left_only\n",
       "521     5486319   199.0  left_only\n",
       "530     5562806   398.0  left_only\n",
       "534     5599663  1900.0  left_only\n",
       "\n",
       "[149 rows x 3 columns]"
      ]
     },
     "execution_count": 9,
     "metadata": {},
     "output_type": "execute_result"
    }
   ],
   "source": [
    "only_checks = pd.merge(checks, active, how='outer', on='student_id', indicator=True).query('_merge == \"left_only\"')\n",
    "only_checks"
   ]
  },
  {
   "cell_type": "markdown",
   "metadata": {},
   "source": [
    "Посмотрим какие суммы чеков есть в таблице. Видим небольшую погрешность в записи 1900.0001, что означает 1900. Сделаем замену, для чистоты данных. Видим, что самый популярный чек 1900."
   ]
  },
  {
   "cell_type": "code",
   "execution_count": 10,
   "metadata": {},
   "outputs": [
    {
     "data": {
      "text/plain": [
       "array([ 990.    ,  690.    ,  630.    ,  580.    ,  290.    , 1140.    ,\n",
       "       1900.0001,  199.    ,  398.    , 1830.    , 1900.    , 3260.    ,\n",
       "       2910.    , 2820.    , 2099.    , 3660.    , 1530.    , 2900.    ,\n",
       "       1980.    , 1160.    ,  870.    ,  840.    , 2890.    , 1180.    ,\n",
       "        880.    , 3040.    ,  796.    , 4650.    , 2190.    , 1729.    ,\n",
       "       1388.    ,  590.    , 2220.    ,  489.    , 1050.    , 1968.    ,\n",
       "       1339.    ,  597.    , 1039.    ])"
      ]
     },
     "metadata": {},
     "output_type": "display_data"
    },
    {
     "data": {
      "text/html": [
       "<div>\n",
       "<style scoped>\n",
       "    .dataframe tbody tr th:only-of-type {\n",
       "        vertical-align: middle;\n",
       "    }\n",
       "\n",
       "    .dataframe tbody tr th {\n",
       "        vertical-align: top;\n",
       "    }\n",
       "\n",
       "    .dataframe thead th {\n",
       "        text-align: right;\n",
       "    }\n",
       "</style>\n",
       "<table border=\"1\" class=\"dataframe\">\n",
       "  <thead>\n",
       "    <tr style=\"text-align: right;\">\n",
       "      <th></th>\n",
       "      <th>rev</th>\n",
       "      <th>student_id</th>\n",
       "    </tr>\n",
       "  </thead>\n",
       "  <tbody>\n",
       "    <tr>\n",
       "      <th>24</th>\n",
       "      <td>1900.0</td>\n",
       "      <td>133</td>\n",
       "    </tr>\n",
       "    <tr>\n",
       "      <th>1</th>\n",
       "      <td>290.0</td>\n",
       "      <td>94</td>\n",
       "    </tr>\n",
       "    <tr>\n",
       "      <th>8</th>\n",
       "      <td>690.0</td>\n",
       "      <td>78</td>\n",
       "    </tr>\n",
       "    <tr>\n",
       "      <th>0</th>\n",
       "      <td>199.0</td>\n",
       "      <td>46</td>\n",
       "    </tr>\n",
       "    <tr>\n",
       "      <th>13</th>\n",
       "      <td>990.0</td>\n",
       "      <td>41</td>\n",
       "    </tr>\n",
       "  </tbody>\n",
       "</table>\n",
       "</div>"
      ],
      "text/plain": [
       "       rev  student_id\n",
       "24  1900.0         133\n",
       "1    290.0          94\n",
       "8    690.0          78\n",
       "0    199.0          46\n",
       "13   990.0          41"
      ]
     },
     "execution_count": 10,
     "metadata": {},
     "output_type": "execute_result"
    }
   ],
   "source": [
    "display(checks.rev.unique())\n",
    "checks = checks.replace(1900.0001, 1900.)\n",
    "checks.groupby('rev', as_index=False).agg({'student_id': 'count'}).sort_values('student_id', ascending=False).head(5)"
   ]
  },
  {
   "cell_type": "markdown",
   "metadata": {},
   "source": [
    "Построим график распределения сумм чеков. Выделяется чек с суммой 1900. Это может означать, что проводилась какая-то акция, которая была направлена на продвижение данной покупки."
   ]
  },
  {
   "cell_type": "code",
   "execution_count": 11,
   "metadata": {},
   "outputs": [
    {
     "data": {
      "text/plain": [
       "<bound method Artist.set of <matplotlib.axes._subplots.AxesSubplot object at 0x7ffa1195cda0>>"
      ]
     },
     "execution_count": 11,
     "metadata": {},
     "output_type": "execute_result"
    },
    {
     "data": {
      "image/png": "[encoded data removed]",
      "text/plain": [
       "<Figure size 1440x504 with 1 Axes>"
      ]
     },
     "metadata": {},
     "output_type": "display_data"
    }
   ],
   "source": [
    "ax = sns.histplot(data=checks, x=\"rev\")\n",
    "ax.set_xlabel('Сумма чека, руб.')\n",
    "ax.set_ylabel('Количество покупателей, чел.')\n",
    "ax.set"
   ]
  },
  {
   "cell_type": "markdown",
   "metadata": {},
   "source": [
    "Далее, как было обозначено выше буду двигаться по двум вариантам: 1. оценивать участие в эксперименте только пользователей из таблицы `active` 2. оценивать участие в эксперименте всех пользователей, совершивших покупку.\n",
    "Сначала первый вариант. Соберем все данные в общую таблицу и удалим пользователей без групп, так как в дальнейшем планирую получить данные и добавить их."
   ]
  },
  {
   "cell_type": "code",
   "execution_count": 12,
   "metadata": {},
   "outputs": [],
   "source": [
    "total_active = active.merge(checks, how='left', on='student_id')\n",
    "total_active = total_active.merge(groups, how='left', on='student_id')"
   ]
  },
  {
   "cell_type": "code",
   "execution_count": 13,
   "metadata": {},
   "outputs": [],
   "source": [
    "total_active = total_active.dropna(subset=['group'])\n",
    "total_active['pay'] = total_active['rev'].apply(lambda x: 1 if x > 0 else 0)"
   ]
  },
  {
   "cell_type": "markdown",
   "metadata": {},
   "source": [
    "Для второго варианта (все пользователи из таблицы `checks` принимали участие в эксперименте) соберем все данные в общую таблицу. Чтобы удостовериться, что записи из `checks` не потеряны, проверяю общую сумму выручки.Далее проставим пользователям группы согласно `groups` и удалим пользователей без группы, по ним информация будет позже."
   ]
  },
  {
   "cell_type": "code",
   "execution_count": 14,
   "metadata": {},
   "outputs": [
    {
     "name": "stdout",
     "output_type": "stream",
     "text": [
      " Общая сумма выручки 573326.0 РУБ\n"
     ]
    },
    {
     "data": {
      "text/html": [
       "<div>\n",
       "<style scoped>\n",
       "    .dataframe tbody tr th:only-of-type {\n",
       "        vertical-align: middle;\n",
       "    }\n",
       "\n",
       "    .dataframe tbody tr th {\n",
       "        vertical-align: top;\n",
       "    }\n",
       "\n",
       "    .dataframe thead th {\n",
       "        text-align: right;\n",
       "    }\n",
       "</style>\n",
       "<table border=\"1\" class=\"dataframe\">\n",
       "  <thead>\n",
       "    <tr style=\"text-align: right;\">\n",
       "      <th></th>\n",
       "      <th>student_id</th>\n",
       "      <th>rev</th>\n",
       "      <th>group</th>\n",
       "    </tr>\n",
       "  </thead>\n",
       "  <tbody>\n",
       "    <tr>\n",
       "      <th>0</th>\n",
       "      <td>581585</td>\n",
       "      <td>NaN</td>\n",
       "      <td>A</td>\n",
       "    </tr>\n",
       "  </tbody>\n",
       "</table>\n",
       "</div>"
      ],
      "text/plain": [
       "   student_id  rev group\n",
       "0      581585  NaN     A"
      ]
     },
     "execution_count": 14,
     "metadata": {},
     "output_type": "execute_result"
    }
   ],
   "source": [
    "total_checks = active.merge(checks, how='outer', on='student_id')\n",
    "print(f' Общая сумма выручки {total_checks.rev.sum().round(0)} РУБ')\n",
    "total_checks = total_checks.merge(groups, how='left', on='student_id')\n",
    "total_checks.head(1)"
   ]
  },
  {
   "cell_type": "code",
   "execution_count": 15,
   "metadata": {},
   "outputs": [],
   "source": [
    "total_checks = total_checks.dropna(subset=['group'])\n",
    "total_checks['pay'] = total_checks['rev'].apply(lambda x: 1 if x > 0 else 0)"
   ]
  },
  {
   "cell_type": "markdown",
   "metadata": {},
   "source": [
    "##  А/B-тест"
   ]
  },
  {
   "cell_type": "markdown",
   "metadata": {},
   "source": [
    "При проведении A/B-тестирования выполняются следующие шаги:\n",
    "1. Выдвигается нулевая гипотеза: при введении новой механики оплаты услуг конверсия в покупку не изменится.\n",
    "2. Переменная: новая механика оплаты услуг.\n",
    "3. Метрика: конверсия в покупку. Я выбрала данную метрику, потому что изменение механики оплаты в большей степени направлено на увеличение количества переходов в оплату (например, за счет упрощения процесса оплаты или изменения дизайна на более привлекательный). \n",
    "4. Объем выборки и статистическая достоверность. Для расчета необходимого объема выборки не хватает некоторых значимых показателей, поэтому примем за данность, что необходимый объем выборки был посчитан планировщиками эксперимента и был достигнут. Далее рассчитаем статистическую достоверность."
   ]
  },
  {
   "cell_type": "markdown",
   "metadata": {},
   "source": [
    "**Первый вариант: в эксперименте участвовали только пользователи из списка активных пользователей.**\n",
    "\n",
    "Рассчитаю некоторые показатели тестовой(В) и контрольной(А) групп. \n",
    "Сразу бросается в глаза большой размер тестовой группы по сравнению с контрольной. Я бы рекомендовала применить другой подход в системе сплитования. Как я поняла, пользователи были разделены на группы заранее, по факту регистрации и каким-то образом (возможно случайно), более активные в последние дни пользователи попали в тестовую группу. Для более равномерного распределения на группы можно использовать распределение в группу в момент входа на сайт (нечетные в контрольную, четные - в тестовую, для распределения 50/50, например. Можно определить и другой размер для тестовой группы и в другой пропорции распределять пользователей)."
   ]
  },
  {
   "cell_type": "code",
   "execution_count": 16,
   "metadata": {},
   "outputs": [
    {
     "data": {
      "text/html": [
       "<div>\n",
       "<style scoped>\n",
       "    .dataframe tbody tr th:only-of-type {\n",
       "        vertical-align: middle;\n",
       "    }\n",
       "\n",
       "    .dataframe tbody tr th {\n",
       "        vertical-align: top;\n",
       "    }\n",
       "\n",
       "    .dataframe thead th {\n",
       "        text-align: right;\n",
       "    }\n",
       "</style>\n",
       "<table border=\"1\" class=\"dataframe\">\n",
       "  <thead>\n",
       "    <tr style=\"text-align: right;\">\n",
       "      <th></th>\n",
       "      <th>Группа</th>\n",
       "      <th>Выручка, руб</th>\n",
       "      <th>Число пользователей</th>\n",
       "      <th>Число платящих пользователей</th>\n",
       "      <th>Число неплатящих пользователей</th>\n",
       "      <th>Средний чек, руб</th>\n",
       "      <th>Средний чек на платящего пользователя, руб</th>\n",
       "      <th>Конверсия в покупку, пп</th>\n",
       "    </tr>\n",
       "  </thead>\n",
       "  <tbody>\n",
       "    <tr>\n",
       "      <th>0</th>\n",
       "      <td>A</td>\n",
       "      <td>72820.0</td>\n",
       "      <td>1535</td>\n",
       "      <td>78</td>\n",
       "      <td>1457</td>\n",
       "      <td>47.44</td>\n",
       "      <td>933.59</td>\n",
       "      <td>0.05</td>\n",
       "    </tr>\n",
       "    <tr>\n",
       "      <th>1</th>\n",
       "      <td>B</td>\n",
       "      <td>393074.0</td>\n",
       "      <td>6793</td>\n",
       "      <td>313</td>\n",
       "      <td>6480</td>\n",
       "      <td>57.86</td>\n",
       "      <td>1255.83</td>\n",
       "      <td>0.05</td>\n",
       "    </tr>\n",
       "  </tbody>\n",
       "</table>\n",
       "</div>"
      ],
      "text/plain": [
       "  Группа  Выручка, руб  Число пользователей  Число платящих пользователей  \\\n",
       "0      A       72820.0                 1535                            78   \n",
       "1      B      393074.0                 6793                           313   \n",
       "\n",
       "   Число неплатящих пользователей  Средний чек, руб  \\\n",
       "0                            1457             47.44   \n",
       "1                            6480             57.86   \n",
       "\n",
       "   Средний чек на платящего пользователя, руб  Конверсия в покупку, пп  \n",
       "0                                      933.59                     0.05  \n",
       "1                                     1255.83                     0.05  "
      ]
     },
     "metadata": {},
     "output_type": "display_data"
    }
   ],
   "source": [
    "share_active = total_active.groupby(['group'], as_index=False)\\\n",
    "                           .agg({'rev': 'sum', 'student_id': 'count'})\\\n",
    "                           .rename(columns={'student_id': 'size'}).round(0)\n",
    "share_active['pay'] = total_active.query('pay == 1').groupby('group', as_index=False).nunique()['student_id']\n",
    "share_active['not_pay'] = share_active['size'] - share_active['pay']\n",
    "share_active['ARPU'] = (share_active['rev'] / share_active['size'])\n",
    "share_active['ARPPU'] = (share_active['rev'] / total_active.query('pay == 1')\n",
    "                         .groupby('group', as_index=False)['student_id']\\\n",
    "                         .nunique()['student_id'])\n",
    "share_active['CR'] = (share_active['pay'] / share_active['size'])\n",
    "\n",
    "display(share_active.rename(columns={'group': 'Группа', \n",
    "                                     'rev': 'Выручка, руб',\n",
    "                                     'size': 'Число пользователей',\n",
    "                                     'pay': 'Число платящих пользователей',\n",
    "                                     'not_pay': 'Число неплатящих пользователей',        \n",
    "                                     'ARPU': 'Средний чек, руб', \n",
    "                                     'ARPPU': 'Средний чек на платящего пользователя, руб',\n",
    "                                     'CR': 'Конверсия в покупку, пп'}))"
   ]
  },
  {
   "cell_type": "code",
   "execution_count": 17,
   "metadata": {},
   "outputs": [
    {
     "data": {
      "image/png": "[encoded data removed]",
      "text/plain": [
       "<Figure size 504x216 with 2 Axes>"
      ]
     },
     "metadata": {},
     "output_type": "display_data"
    }
   ],
   "source": [
    "fg = plt.figure(figsize=(7, 3), constrained_layout=True)\n",
    "gs = gridspec.GridSpec(ncols=2, nrows=1, figure=fg)\n",
    "fig_ax_1 = fg.add_subplot(gs[0, 0])\n",
    "share_active.ARPU.plot.bar()\n",
    "plt.title(\"ARPU\")\n",
    "plt.xlabel(\"Группа\")\n",
    "plt.ylabel(\"Сумма, руб.\")\n",
    "\n",
    "fig_ax_2 = fg.add_subplot(gs[0, 1])\n",
    "ax2 = share_active.ARPPU.plot.bar()\n",
    "plt.title(\"ARPPU\")\n",
    "plt.xlabel(\"Группа\")\n",
    "plt.ylabel(\"Сумма, руб.\")\n",
    "\n",
    "plt.show()"
   ]
  },
  {
   "cell_type": "markdown",
   "metadata": {},
   "source": [
    "Оценю статистическую значимость результатов. Так как конверсия является качественным показателем, то для проверки использую критерий Хи-квадрат.\n",
    "Расчеты показывают, что при верности нулевой гипотезы вероятность получить значение конверсии как в тестовой группе или с меньшим отклонением от контрольной составляет 43%. Данное значение вероятности не позволяет нам отклонить нулевую гипотезу, следовательно для имеющихся данных мы считаем отклонение в конверсии в покупку при изменении механики оплаты несущественным."
   ]
  },
  {
   "cell_type": "code",
   "execution_count": 18,
   "metadata": {},
   "outputs": [
    {
     "name": "stdout",
     "output_type": "stream",
     "text": [
      "Хи-квадрат p-value, %: 42.81\n",
      "Доверительный интервал изменения в лямбдах: (0.6478014558934166, 1.156729250026178)\n",
      "Не обнаружено оснований для отклонения нулевой гипотезы\n"
     ]
    }
   ],
   "source": [
    "group_A = list(share_active[['not_pay', 'pay']].loc[0])\n",
    "group_B = list(share_active[['not_pay', 'pay']].loc[1])\n",
    "\n",
    "\n",
    "# тест Хи-квадрат\n",
    "chi2, p, dof, ex = stats.chi2_contingency([group_A, group_B], correction=False)\n",
    "\n",
    "# Рассчитаю доверительный интервал для изменения\n",
    "lift = (group_B[1] / group_B[0]) / (group_A[1] / group_A[0])\n",
    "std_error = np.sqrt(1 / group_B[0] + 1 / group_B[1] + 1 / group_A[0] + 1 / group_A[1])\n",
    "ci = stats.norm.interval(0.95, loc=lift, scale=std_error)\n",
    "\n",
    "# Вывод результатов\n",
    "\n",
    "print(f\"Хи-квадрат p-value, %: {p*100:.2f}\")\n",
    "print(\"Доверительный интервал изменения в лямбдах:\", ci)\n",
    "\n",
    "# Проверяем есть ли изменение\n",
    "if p < 0.05 and ci[0] > 1:\n",
    "    print(\"Есть основания для отклонения нулевой гипотезы\")\n",
    "else:\n",
    "    print(\"Не обнаружено оснований для отклонения нулевой гипотезы\")"
   ]
  },
  {
   "cell_type": "markdown",
   "metadata": {},
   "source": [
    "Вижу значительные отклонения по средним чекам. С учетом того, что есть \"популярный\" чек, посмотрю как распределились чеки по группам. По графику можно увидеть, что \"популярный\" чек был только в тестовой группе, а в контрольной распределение чеков более ожидаемое (с меньшей суммой больше чеков). Из этого можно сделать вывод, что эксперимент не был \"чистым\". Помимо механики оплаты были внесены другие изменения на стадии выбора покупки, о чем не было сообщено в исходной задаче. "
   ]
  },
  {
   "cell_type": "code",
   "execution_count": 19,
   "metadata": {},
   "outputs": [
    {
     "data": {
      "text/plain": [
       "Text(0, 0.5, 'Количество покупателей, чел.')"
      ]
     },
     "execution_count": 19,
     "metadata": {},
     "output_type": "execute_result"
    },
    {
     "data": {
      "image/png": "[encoded data removed]",
      "text/plain": [
       "<Figure size 1440x504 with 1 Axes>"
      ]
     },
     "metadata": {},
     "output_type": "display_data"
    }
   ],
   "source": [
    "ax = sns.histplot(data=total_active, x=\"rev\", multiple='dodge', hue='group')\n",
    "ax.set_xlabel('Сумма чека, руб.')\n",
    "ax.set_ylabel('Количество покупателей, чел.')"
   ]
  },
  {
   "cell_type": "markdown",
   "metadata": {},
   "source": [
    "Справочно исследую насколько статистически значимы изменения в среднем чеке и в среднем чеке на платящего пользователя. Так как я не знаю какие изменения были внесены для А/Б-тестирования, то затрудняюсь адекватно оценить какой показатель использовать для оценки эффективности изменений. \n",
    "На мой взгляд, если изменения были предложены после принятия решения пользователем о покупке, то оценивать нужно средний чек на платящего пользователя. Если же изменения были видны всем пользователям, то я бы оценивала средний чек на пользователя.\n",
    "\n",
    "Для оценки статистической достоверности средних в независимых группах использую t-критерий Стьюдента. Так как группы достаточно большие, то не проверяю их на гомогенность и нормальность."
   ]
  },
  {
   "cell_type": "code",
   "execution_count": 20,
   "metadata": {},
   "outputs": [
    {
     "data": {
      "text/plain": [
       "Ttest_indResult(statistic=-1.1930593769039888, pvalue=0.23288011573839099)"
      ]
     },
     "execution_count": 20,
     "metadata": {},
     "output_type": "execute_result"
    }
   ],
   "source": [
    "# Средний чек на пользователя\n",
    "total_a = total_active.fillna(0)\n",
    "a = total_a.query('group==\"A\"')['rev']\n",
    "b = total_a.query('group==\"B\"')['rev']\n",
    "stats.ttest_ind(a, b)"
   ]
  },
  {
   "cell_type": "code",
   "execution_count": 21,
   "metadata": {},
   "outputs": [
    {
     "data": {
      "text/plain": [
       "Ttest_indResult(statistic=-3.111438899996839, pvalue=0.001999178560469943)"
      ]
     },
     "execution_count": 21,
     "metadata": {},
     "output_type": "execute_result"
    }
   ],
   "source": [
    "# Средний чек на платящего пользователя\n",
    "a = total_a.query('group==\"A\" & pay==1')['rev']\n",
    "b = total_a.query('group==\"B\" & pay==1')['rev']\n",
    "stats.ttest_ind(a, b)"
   ]
  },
  {
   "cell_type": "markdown",
   "metadata": {},
   "source": [
    "По результатам тестирования можно сказать, что средний чек на пользователя не изменился статистически значимо (p-value = 0.233), следовательно нет оснований отвергать гипотезу, что новый механизм не влияет на величину среднего чека. Средний чек на платящего пользователя изменился статистически значимо (p-value = 0.002), следовательно есть основания отвергнуть гипотезу, что новый механизм не влияет на величину среднего чека платящего пользователя."
   ]
  },
  {
   "cell_type": "markdown",
   "metadata": {},
   "source": [
    "**Второй вариант: в эксперименте участвовали все пользователи, совершившие покупку.**\n",
    "\n",
    "Аналогично первому варианту рассчитаю все показатели, пояснения дублировать не буду."
   ]
  },
  {
   "cell_type": "code",
   "execution_count": 22,
   "metadata": {},
   "outputs": [
    {
     "data": {
      "text/html": [
       "<div>\n",
       "<style scoped>\n",
       "    .dataframe tbody tr th:only-of-type {\n",
       "        vertical-align: middle;\n",
       "    }\n",
       "\n",
       "    .dataframe tbody tr th {\n",
       "        vertical-align: top;\n",
       "    }\n",
       "\n",
       "    .dataframe thead th {\n",
       "        text-align: right;\n",
       "    }\n",
       "</style>\n",
       "<table border=\"1\" class=\"dataframe\">\n",
       "  <thead>\n",
       "    <tr style=\"text-align: right;\">\n",
       "      <th></th>\n",
       "      <th>Группа</th>\n",
       "      <th>Выручка, руб</th>\n",
       "      <th>Число пользователей</th>\n",
       "      <th>Число платящих пользователей</th>\n",
       "      <th>Число неплатящих пользователей</th>\n",
       "      <th>Средний чек, руб</th>\n",
       "      <th>Средний чек на платящего пользователя, руб</th>\n",
       "      <th>Конверсия в покупку, пп</th>\n",
       "    </tr>\n",
       "  </thead>\n",
       "  <tbody>\n",
       "    <tr>\n",
       "      <th>0</th>\n",
       "      <td>A</td>\n",
       "      <td>92096.0</td>\n",
       "      <td>1564</td>\n",
       "      <td>107</td>\n",
       "      <td>1457</td>\n",
       "      <td>58.88</td>\n",
       "      <td>860.71</td>\n",
       "      <td>0.07</td>\n",
       "    </tr>\n",
       "    <tr>\n",
       "      <th>1</th>\n",
       "      <td>B</td>\n",
       "      <td>479330.0</td>\n",
       "      <td>6913</td>\n",
       "      <td>433</td>\n",
       "      <td>6480</td>\n",
       "      <td>69.34</td>\n",
       "      <td>1107.00</td>\n",
       "      <td>0.06</td>\n",
       "    </tr>\n",
       "  </tbody>\n",
       "</table>\n",
       "</div>"
      ],
      "text/plain": [
       "  Группа  Выручка, руб  Число пользователей  Число платящих пользователей  \\\n",
       "0      A       92096.0                 1564                           107   \n",
       "1      B      479330.0                 6913                           433   \n",
       "\n",
       "   Число неплатящих пользователей  Средний чек, руб  \\\n",
       "0                            1457             58.88   \n",
       "1                            6480             69.34   \n",
       "\n",
       "   Средний чек на платящего пользователя, руб  Конверсия в покупку, пп  \n",
       "0                                      860.71                     0.07  \n",
       "1                                     1107.00                     0.06  "
      ]
     },
     "metadata": {},
     "output_type": "display_data"
    }
   ],
   "source": [
    "share_checks = total_checks.groupby(['group'], as_index=False)\\\n",
    "                           .agg({'rev': 'sum', 'student_id': 'count'})\\\n",
    "                           .rename(columns={'student_id': 'size'}).round(0)\n",
    "share_checks['pay'] = total_checks.query('pay == 1').groupby('group', as_index=False).nunique()['student_id']\n",
    "share_checks['not_pay'] = share_checks['size'] - share_checks['pay']\n",
    "share_checks['ARPU'] = (share_checks['rev'] / share_checks['size'])\n",
    "share_checks['ARPPU'] = (share_checks['rev'] / total_checks.query('pay == 1')\n",
    "                         .groupby('group', as_index=False)['student_id']\\\n",
    "                         .nunique()['student_id'])\n",
    "share_checks['CR'] = (share_checks['pay'] / share_checks['size'])\n",
    "\n",
    "display(share_checks.rename(columns={'group': 'Группа', \n",
    "                                     'rev': 'Выручка, руб',\n",
    "                                     'size': 'Число пользователей',\n",
    "                                     'pay': 'Число платящих пользователей',\n",
    "                                     'not_pay': 'Число неплатящих пользователей',        \n",
    "                                     'ARPU': 'Средний чек, руб', \n",
    "                                     'ARPPU': 'Средний чек на платящего пользователя, руб',\n",
    "                                     'CR': 'Конверсия в покупку, пп'}))"
   ]
  },
  {
   "cell_type": "code",
   "execution_count": 23,
   "metadata": {},
   "outputs": [
    {
     "name": "stdout",
     "output_type": "stream",
     "text": [
      "Хи-квадрат p-value, %: 39.81\n",
      "Доверительный интервал изменения в лямбдах: (0.6907946007691652, 1.1289844461905671)\n",
      "Не обнаружено оснований для отклонения нулевой гипотезы\n"
     ]
    }
   ],
   "source": [
    "group_A = list(share_checks[['not_pay', 'pay']].loc[0])\n",
    "group_B = list(share_checks[['not_pay', 'pay']].loc[1])\n",
    "\n",
    "\n",
    "# тест Хи-квадрат\n",
    "chi2, p, dof, ex = stats.chi2_contingency([group_A, group_B], correction=False)\n",
    "\n",
    "# Рассчитаю доверительный интервал для изменения\n",
    "lift = (group_B[1] / group_B[0]) / (group_A[1] / group_A[0])\n",
    "std_error = np.sqrt(1 / group_B[0] + 1 / group_B[1] + 1 / group_A[0] + 1 / group_A[1])\n",
    "ci = stats.norm.interval(0.95, loc=lift, scale=std_error)\n",
    "\n",
    "# Вывод результатов\n",
    "\n",
    "print(f\"Хи-квадрат p-value, %: {p*100:.2f}\")\n",
    "print(\"Доверительный интервал изменения в лямбдах:\", ci)\n",
    "\n",
    "# Проверяем есть ли изменение\n",
    "if p < 0.05 and ci[0] > 1:\n",
    "    print(\"Есть основания для отклонения нулевой гипотезы\")\n",
    "else:\n",
    "    print(\"Не обнаружено оснований для отклонения нулевой гипотезы\")"
   ]
  },
  {
   "cell_type": "code",
   "execution_count": 24,
   "metadata": {},
   "outputs": [
    {
     "data": {
      "text/plain": [
       "Text(0, 0.5, 'Количество покупателей, чел.')"
      ]
     },
     "execution_count": 24,
     "metadata": {},
     "output_type": "execute_result"
    },
    {
     "data": {
      "image/png": "[encoded data removed]",
      "text/plain": [
       "<Figure size 1440x504 with 1 Axes>"
      ]
     },
     "metadata": {},
     "output_type": "display_data"
    }
   ],
   "source": [
    "ax = sns.histplot(data=total_checks, x=\"rev\", multiple='dodge', hue='group')\n",
    "ax.set_xlabel('Сумма чека, руб.')\n",
    "ax.set_ylabel('Количество покупателей, чел.')"
   ]
  },
  {
   "cell_type": "code",
   "execution_count": 25,
   "metadata": {},
   "outputs": [
    {
     "data": {
      "text/plain": [
       "Ttest_indResult(statistic=-1.1588256471664464, pvalue=0.24655991175593625)"
      ]
     },
     "execution_count": 25,
     "metadata": {},
     "output_type": "execute_result"
    }
   ],
   "source": [
    "# Средний чек на пользователя\n",
    "total_c = total_checks.fillna(0)\n",
    "a = total_c.query('group==\"A\"')['rev']\n",
    "b = total_c.query('group==\"B\"')['rev']\n",
    "stats.ttest_ind(a, b)"
   ]
  },
  {
   "cell_type": "code",
   "execution_count": 26,
   "metadata": {},
   "outputs": [
    {
     "data": {
      "text/plain": [
       "Ttest_indResult(statistic=-3.013977694702081, pvalue=0.0026999939486410294)"
      ]
     },
     "execution_count": 26,
     "metadata": {},
     "output_type": "execute_result"
    }
   ],
   "source": [
    "# Средний чек на платящего пользователя\n",
    "a = total_c.query('group==\"A\" & pay==1')['rev']\n",
    "b = total_c.query('group==\"B\" & pay==1')['rev']\n",
    "stats.ttest_ind(a, b)"
   ]
  },
  {
   "cell_type": "markdown",
   "metadata": {},
   "source": [
    "### Выводы и рекомендации <a name=\"subparagraph1\"></a>\n",
    "\n",
    "Было проведено А/В-тестирование для проверки следующей нулевой гипотезы: при введении новой механики оплаты услуг конверсия в покупку не изменится. \n",
    "Для оценки статистической значимости результатов использовался критерий Хи-квадрат.\n",
    "\n",
    "С учетом полученной мной информации, я бы рекомендовала остановить A/B-тестирование в связи с тем, что:\n",
    " - Система сплитования делит пользователей на группы неравномерно. В результате мы тестируем изменения на 85% наших активных пользователей. В будущем неудачный эксперимент в таком объеме может привести к значительному падению выручки. Я рекомендую изменить систему распределения пользователей на тестовую и контрольную группы, например по факту активности каждый n-ый пользователей заносится в тестовую группу (размер n зависит от размера желаемой тестовой группы, например для распределения 50/50 n=2)\n",
    " - не зафиксировано статистически значимого изменения тестовой метрики (p-value 43%).\n",
    "\n",
    "Также хотела бы отметить, что помимо тестирования механики оплаты очень вероятно, что для тестовой группы были внесены какие-то изменения на стадии выбора покупки, либо принятия решения о покупке. Если эти изменения были показаны всем пользователям тестовой группы, то они не оказали статистически значимого влияния на средний чек пользователя (средний чек пользователя повысился с 47 до 58р., p-value = 0.23). Если же эти изменения были показаны только тем, кто уже принял решение о покупке и влияли на сумму, то они статистически значимо повлияли на средний чек платящего пользователя (повысился с 934 до 1256р., p-value = 0.001). \n",
    "\n",
    "Я бы рекомендовала разобраться с исходными условиями по тестированию и уже потом выбирать метрику и принимать решение."
   ]
  },
  {
   "cell_type": "markdown",
   "metadata": {},
   "source": [
    "**Задание**\n",
    "\n",
    "Реализуйте функцию, которая будет автоматически подгружать информацию из дополнительного файла group_add.csv (заголовки могут отличаться) и на основании дополнительных параметров пересчитывать метрики. Реализуйте функцию, которая будет строить графики по получаемым метрикам.\n",
    "___\n",
    "Чтобы сделать данную функцию независимой от кода из других заданий загружу файлы еще раз по ссылкам в их первоначальном виде."
   ]
  },
  {
   "cell_type": "code",
   "execution_count": 27,
   "metadata": {},
   "outputs": [],
   "source": [
    "# использование api \n",
    "def url(public_key):\n",
    "    base_url = 'https://cloud-api.yandex.net/v1/disk/public/resources/download?' \n",
    "    final_url = base_url + urlencode(dict(public_key=public_key))\n",
    "    response_active = requests.get(final_url)\n",
    "    download_url = response_active.json()['href']\n",
    "#   download_response = requests.get(download_url)\n",
    "    return download_url\n",
    "\n",
    "download_url_active_studs = url('https://disk.yandex.ru/d/Tbs44Bm6H_FwFQ' )\n",
    "active = pd.read_csv(download_url_active_studs)\n",
    "download_url_checks = url('https://disk.yandex.ru/d/pH1q-VqcxXjsVA')\n",
    "checks = pd.read_csv(download_url_checks, sep=';')\n",
    "download_url_groups = url('https://disk.yandex.ru/d/UhyYx41rTt3clQ' )\n",
    "groups = pd.read_csv(download_url_groups, sep=';')\n",
    "download_url_group_add = url('https://disk.yandex.ru/d/5Kxrz02m3IBUwQ')\n",
    "group_add = pd.read_csv(download_url_group_add)"
   ]
  },
  {
   "cell_type": "code",
   "execution_count": 28,
   "metadata": {},
   "outputs": [],
   "source": [
    "def metrics_for_test(groups, group_add, active, checks):\n",
    "    \"\"\"\n",
    "        metrics_for_test()\n",
    "        На вход получает полные необработанные данные о тестировании: список деления пользователей \n",
    "        на группы groups.csv, добавочные данные о делении пользователей на группы group_add.csv,\n",
    "        данные о пользователях, которые были активны в период проведения тестирования active_studs.csv,\n",
    "        данные о покупках пользователей active.csv.\n",
    "        На выход функция подает таблицу с основными рассчитанными метриками. Данную таблицу можно \n",
    "        передать в функцию визуализации (visualisation()), которая построит график конверсии в \n",
    "        покупку в тестовой и контрольной группах\n",
    "        \n",
    "        \"\"\"       \n",
    "    group = pd.concat([group_add, groups])\n",
    "    group.columns.values[0] = active.columns.values[0]\n",
    "    test1 = active.merge(checks, how='left', on='student_id').merge(group, how='left', on='student_id')\n",
    "    test1['pay'] = test1['rev'].apply(lambda x: 1 if x > 0 else 0)\n",
    "    test2 = test1.groupby(['grp'], as_index=False)\\\n",
    "                 .agg({'rev': 'sum', 'student_id': 'count'})\\\n",
    "                 .rename(columns={'student_id': 'size'}).round(0)\n",
    "    \n",
    "    test2['pay_user_size'] = test1.query('pay == 1').groupby('grp', as_index=False).nunique()['student_id']\n",
    "    test2['not_pay_user_size'] = test2['size'] - test2['pay_user_size']\n",
    "    test2['ARPU'] = (test2['rev'] / test2['size']).round(0)\n",
    "    test2['ARPPU'] = (test2['rev'] / test1.query('pay == 1')\n",
    "                      .groupby('grp', as_index=False)['student_id']\\\n",
    "                      .nunique()['student_id']).round(0)\n",
    "    test2['CR, %'] = (test2['pay_user_size'] / test2['size']).mul(100).round(2)\n",
    "    test3 = test2[['grp', 'size']]\n",
    "    test3['CR'] = (test2['pay_user_size'] / test2['size'])\n",
    "    display(test2)\n",
    "    print()\n",
    "    \n",
    "    group_A = list(test2[['not_pay_user_size', 'pay_user_size']].loc[0])\n",
    "    group_B = list(test2[['not_pay_user_size', 'pay_user_size']].loc[1])\n",
    "    chi2, p, dof, ex = stats.chi2_contingency([group_A, group_B], correction=False)\n",
    "    lift = (group_B[1] / group_B[0]) / (group_A[1] / group_A[0])\n",
    "    std_error = np.sqrt(1 / group_B[0] + 1 / group_B[1] + 1 / group_A[0] + 1 / group_A[1])\n",
    "    ci = stats.norm.interval(0.95, loc=lift, scale=std_error)\n",
    "    print(f\"Хи-квадрат p-value, в %: {p*100:.2f}\")\n",
    "    print(\"Доверительный интервал изменения: \", ci)\n",
    "    if p < 0.05 and ci[0] > 1:\n",
    "        print(\"Есть основания для отклонения нулевой гипотезы\")\n",
    "    else:\n",
    "        print(\"Не обнаружено оснований для отклонения нулевой гипотезы\")\n",
    "    return test3"
   ]
  },
  {
   "cell_type": "code",
   "execution_count": 29,
   "metadata": {},
   "outputs": [
    {
     "name": "stderr",
     "output_type": "stream",
     "text": [
      "/opt/tljh/user/lib/python3.7/site-packages/ipykernel_launcher.py:29: SettingWithCopyWarning: \n",
      "A value is trying to be set on a copy of a slice from a DataFrame.\n",
      "Try using .loc[row_indexer,col_indexer] = value instead\n",
      "\n",
      "See the caveats in the documentation: https://pandas.pydata.org/pandas-docs/stable/user_guide/indexing.html#returning-a-view-versus-a-copy\n"
     ]
    },
    {
     "data": {
      "text/html": [
       "<div>\n",
       "<style scoped>\n",
       "    .dataframe tbody tr th:only-of-type {\n",
       "        vertical-align: middle;\n",
       "    }\n",
       "\n",
       "    .dataframe tbody tr th {\n",
       "        vertical-align: top;\n",
       "    }\n",
       "\n",
       "    .dataframe thead th {\n",
       "        text-align: right;\n",
       "    }\n",
       "</style>\n",
       "<table border=\"1\" class=\"dataframe\">\n",
       "  <thead>\n",
       "    <tr style=\"text-align: right;\">\n",
       "      <th></th>\n",
       "      <th>grp</th>\n",
       "      <th>rev</th>\n",
       "      <th>size</th>\n",
       "      <th>pay_user_size</th>\n",
       "      <th>not_pay_user_size</th>\n",
       "      <th>ARPU</th>\n",
       "      <th>ARPPU</th>\n",
       "      <th>CR, %</th>\n",
       "    </tr>\n",
       "  </thead>\n",
       "  <tbody>\n",
       "    <tr>\n",
       "      <th>0</th>\n",
       "      <td>A</td>\n",
       "      <td>72820.0</td>\n",
       "      <td>1538</td>\n",
       "      <td>78</td>\n",
       "      <td>1460</td>\n",
       "      <td>47.0</td>\n",
       "      <td>934.0</td>\n",
       "      <td>5.07</td>\n",
       "    </tr>\n",
       "    <tr>\n",
       "      <th>1</th>\n",
       "      <td>B</td>\n",
       "      <td>394974.0</td>\n",
       "      <td>6803</td>\n",
       "      <td>314</td>\n",
       "      <td>6489</td>\n",
       "      <td>58.0</td>\n",
       "      <td>1258.0</td>\n",
       "      <td>4.62</td>\n",
       "    </tr>\n",
       "  </tbody>\n",
       "</table>\n",
       "</div>"
      ],
      "text/plain": [
       "  grp       rev  size  pay_user_size  not_pay_user_size  ARPU   ARPPU  CR, %\n",
       "0   A   72820.0  1538             78               1460  47.0   934.0   5.07\n",
       "1   B  394974.0  6803            314               6489  58.0  1258.0   4.62"
      ]
     },
     "metadata": {},
     "output_type": "display_data"
    },
    {
     "name": "stdout",
     "output_type": "stream",
     "text": [
      "\n",
      "Хи-квадрат p-value, в %: 44.55\n",
      "Доверительный интервал изменения:  (0.6513789013254272, 1.1601285412499764)\n",
      "Не обнаружено оснований для отклонения нулевой гипотезы\n"
     ]
    },
    {
     "data": {
      "text/html": [
       "<div>\n",
       "<style scoped>\n",
       "    .dataframe tbody tr th:only-of-type {\n",
       "        vertical-align: middle;\n",
       "    }\n",
       "\n",
       "    .dataframe tbody tr th {\n",
       "        vertical-align: top;\n",
       "    }\n",
       "\n",
       "    .dataframe thead th {\n",
       "        text-align: right;\n",
       "    }\n",
       "</style>\n",
       "<table border=\"1\" class=\"dataframe\">\n",
       "  <thead>\n",
       "    <tr style=\"text-align: right;\">\n",
       "      <th></th>\n",
       "      <th>grp</th>\n",
       "      <th>size</th>\n",
       "      <th>CR</th>\n",
       "    </tr>\n",
       "  </thead>\n",
       "  <tbody>\n",
       "    <tr>\n",
       "      <th>0</th>\n",
       "      <td>A</td>\n",
       "      <td>1538</td>\n",
       "      <td>0.05</td>\n",
       "    </tr>\n",
       "    <tr>\n",
       "      <th>1</th>\n",
       "      <td>B</td>\n",
       "      <td>6803</td>\n",
       "      <td>0.05</td>\n",
       "    </tr>\n",
       "  </tbody>\n",
       "</table>\n",
       "</div>"
      ],
      "text/plain": [
       "  grp  size    CR\n",
       "0   A  1538  0.05\n",
       "1   B  6803  0.05"
      ]
     },
     "execution_count": 29,
     "metadata": {},
     "output_type": "execute_result"
    }
   ],
   "source": [
    "test = metrics_for_test(groups, group_add, active, checks)\n",
    "test"
   ]
  },
  {
   "cell_type": "code",
   "execution_count": 30,
   "metadata": {},
   "outputs": [],
   "source": [
    "def visualisation(test):\n",
    "    \"\"\"\n",
    "        visualisation()\n",
    "        На вход получает таблицу, содержающую столбец с наименованием группы(grp), \n",
    "        количеством пользователей в группе (size)и конверсией в покупку в процентных пунктах (CR).\n",
    "        На выход формируется график ожидаемых распределений конверсии в покупку в разных группах.\n",
    "        Данная функция может принимать на вход таблицу, сформированную в функции metrics_for_test\n",
    "                \n",
    "        \"\"\"      \n",
    "    test['std'] = np.sqrt(test['CR'] * (1 - test['CR']) / test['size'])\n",
    "    test['low'] = test['CR'] - (test['std']) * 2\n",
    "    test['high'] = test['CR'] + test['std'] * 2\n",
    "    x = np.arange(min(test['low'] - 0.01), max(test['high'] + 0.01), 0.0001)\n",
    "    plt.plot(x, norm.pdf(x, test['CR'][0], test['std'][0]), label='μ: 0, σ: 1', lw=4)\n",
    "    plt.plot(x, norm.pdf(x, test['CR'][1], test['std'][1]), label='μ:0, σ: 2', lw=4)\n",
    "    plt.title('Ожидаемые распределения вероятности конверсии в покупку в тестовой (B) и контрольной (A) группах')\n",
    "    plt.xlabel('Конверсия в покупку в процентных пунктах')\n",
    "    plt.legend(test['grp'])\n",
    "    plt.axvline(x=test['CR'][0], ymin=0, ymax=0.95, lw=1, color='gray')\n",
    "    plt.text(test['CR'][0] + 0.0003, 30, f\"Конверсия {test['grp'][0]}  {test['CR'][0].round(3)}\", rotation=90)\n",
    "    plt.axvline(x=test['CR'][1], ymin=0, ymax=0.95, color='gray', lw=1)\n",
    "    plt.text(test['CR'][1] + 0.0003, 30, f\"Конверсия {test['grp'][1]}  {test['CR'][1].round(3)}\", rotation=90)\n",
    "    plt.axvline(x=test['low'].min(), ymin=0, ymax=0.95, color='gray', ls='--', lw=1)\n",
    "    plt.text(test['low'].min() + 0.0003, 30, '95%', rotation=90)\n",
    "    plt.axvline(x=test['high'].max(), ymin=0, ymax=0.95, color='gray', ls='--', lw=1)\n",
    "    plt.text(test['high'].max() + 0.0003, 30, '95%', rotation=90)\n",
    "    plt.grid(False)"
   ]
  },
  {
   "cell_type": "code",
   "execution_count": 31,
   "metadata": {},
   "outputs": [
    {
     "data": {
      "image/png": "[encoded data removed]",
      "text/plain": [
       "<Figure size 1440x504 with 1 Axes>"
      ]
     },
     "metadata": {},
     "output_type": "display_data"
    }
   ],
   "source": [
    "visualisation(test)"
   ]
  }
 ],
 "metadata": {
  "kernelspec": {
   "display_name": "Python 3",
   "language": "python",
   "name": "python3"
  },
  "language_info": {
   "codemirror_mode": {
    "name": "ipython",
    "version": 3
   },
   "file_extension": ".py",
   "mimetype": "text/x-python",
   "name": "python",
   "nbconvert_exporter": "python",
   "pygments_lexer": "ipython3",
   "version": "3.7.3"
  }
 },
 "nbformat": 4,
 "nbformat_minor": 4
}
